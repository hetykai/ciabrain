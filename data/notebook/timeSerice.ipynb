{
 "cells": [
  {
   "cell_type": "markdown",
   "metadata": {},
   "source": [
    "### 采用时间序列干预模型分析法分析利好对股票价格的影响\n",
    "<p>利好消息作为一个干预事件通常会对股票分析造成很重要的影响。我们初次的分析，主要将利好抽象化，以指数的形式进行，后面可以将利好拆解开来。分别考虑。</p>"
   ]
  },
  {
   "cell_type": "code",
   "execution_count": 6,
   "metadata": {
    "collapsed": true
   },
   "outputs": [],
   "source": [
    "import requests\n",
    "import json\n",
    "import numpy as np\n",
    "from pandas import Series, DataFrame \n",
    "import pandas as pd\n",
    "import matplotlib.pyplot as plt\n",
    "import statsmodels.api as sm\n",
    "from statsmodels.graphics.api import qqplot"
   ]
  },
  {
   "cell_type": "code",
   "execution_count": 23,
   "metadata": {
    "collapsed": false
   },
   "outputs": [
    {
     "name": "stdout",
     "output_type": "stream",
     "text": [
      "The rpy2.ipython extension is already loaded. To reload it, use:\n",
      "  %reload_ext rpy2.ipython\n"
     ]
    }
   ],
   "source": [
    "#内置图像\n",
    "%matplotlib inline\n",
    "%config InlineBackend.figure_format=\"svg\" \n",
    "%load_ext rpy2.ipython"
   ]
  },
  {
   "cell_type": "markdown",
   "metadata": {},
   "source": [
    "# 1.对数据进行基本的统计分析"
   ]
  },
  {
   "cell_type": "code",
   "execution_count": 24,
   "metadata": {
    "collapsed": true
   },
   "outputs": [],
   "source": [
    "#获取股票数据的接口\n",
    "feeling_url = \"http://localhost:4444/api/feelings/1058\"\n",
    "trade_url = \"http://localhost:4444/api/trades/1058\""
   ]
  },
  {
   "cell_type": "code",
   "execution_count": 25,
   "metadata": {
    "collapsed": false
   },
   "outputs": [],
   "source": [
    "#定义一个请求数据的函数\n",
    "def getData(url):\n",
    "    r = requests.get(url)\n",
    "    return json.loads(r.text)\n",
    "#查询数据获得收盘价\n",
    "def findFeeling(time,list):\n",
    "    for l in list:\n",
    "        if l['time'] == time:\n",
    "            return l['feelingIndex']\n",
    "#获取数组的移动平均转换\n",
    "def moveAverage(list,n):\n",
    "    new =[0]*len(list)\n",
    "    l = np.array(list)\n",
    "    for i in xrange(n-1,len(list)):\n",
    "        new[i]=l[i-n+1:i].mean()\n",
    "    return new\n",
    "#获取滞后几日的收益率\n",
    "def dayRate(list,n):\n",
    "    new =[0]*len(list)\n",
    "    for i in xrange(0,len(list)-n):\n",
    "        new[i] = (list[i+n]-list[i])/list[i]\n",
    "    return new"
   ]
  },
  {
   "cell_type": "code",
   "execution_count": 26,
   "metadata": {
    "collapsed": false
   },
   "outputs": [],
   "source": [
    "#获取股票的数据\n",
    "feeling_list = getData(feeling_url)\n",
    "trade_list = getData(trade_url)"
   ]
  },
  {
   "cell_type": "code",
   "execution_count": 27,
   "metadata": {
    "collapsed": false
   },
   "outputs": [
    {
     "name": "stdout",
     "output_type": "stream",
     "text": [
      "[0, 9, 6, 6, 0, 0, 0, 6, 0, 0, 9, 15, 7, 10, 0, 0, 0, 23, 19, 0, 10, 4, 13, 12, 7, 7, 0, 7, 8, 2, 0, 0, 0, 0, 0, 10, 5, 0, 0, 8, 4, 4, 0, 0, 7, 8, 0, 0, 0, 0, 12, 0, 5, 0, 0, 0, 0, 5, 0, 4, 0, 0, 2, 0, 0, 5, 0, 3, 0, 0, 0, 0, 0, 0, 7, 7, 4, 2, 0, 2, None, 4]\n"
     ]
    },
    {
     "ename": "AttributeError",
     "evalue": "'int' object has no attribute 'dtype'",
     "output_type": "error",
     "traceback": [
      "\u001b[0;31m---------------------------------------------------------------------------\u001b[0m",
      "\u001b[0;31mAttributeError\u001b[0m                            Traceback (most recent call last)",
      "\u001b[0;32m<ipython-input-27-71b8e6cacca3>\u001b[0m in \u001b[0;36m<module>\u001b[0;34m()\u001b[0m\n\u001b[1;32m     13\u001b[0m     \u001b[0mfeelings\u001b[0m\u001b[0;34m.\u001b[0m\u001b[0mappend\u001b[0m\u001b[0;34m(\u001b[0m\u001b[0mf\u001b[0m\u001b[0;34m)\u001b[0m\u001b[0;34m\u001b[0m\u001b[0m\n\u001b[1;32m     14\u001b[0m \u001b[0;32mprint\u001b[0m \u001b[0mfeelings\u001b[0m\u001b[0;34m\u001b[0m\u001b[0m\n\u001b[0;32m---> 15\u001b[0;31m \u001b[0mfeeling_7ma\u001b[0m \u001b[0;34m=\u001b[0m \u001b[0mmoveAverage\u001b[0m\u001b[0;34m(\u001b[0m\u001b[0mfeelings\u001b[0m\u001b[0;34m,\u001b[0m\u001b[0;36m7\u001b[0m\u001b[0;34m)\u001b[0m\u001b[0;34m\u001b[0m\u001b[0m\n\u001b[0m\u001b[1;32m     16\u001b[0m \u001b[0mRate_3day\u001b[0m \u001b[0;34m=\u001b[0m \u001b[0mdayRate\u001b[0m\u001b[0;34m(\u001b[0m\u001b[0mclosePrices\u001b[0m\u001b[0;34m,\u001b[0m\u001b[0;36m3\u001b[0m\u001b[0;34m)\u001b[0m\u001b[0;34m\u001b[0m\u001b[0m\n\u001b[1;32m     17\u001b[0m \u001b[0mRate_7day\u001b[0m \u001b[0;34m=\u001b[0m \u001b[0mdayRate\u001b[0m\u001b[0;34m(\u001b[0m\u001b[0mclosePrices\u001b[0m\u001b[0;34m,\u001b[0m\u001b[0;36m7\u001b[0m\u001b[0;34m)\u001b[0m\u001b[0;34m\u001b[0m\u001b[0m\n",
      "\u001b[0;32m<ipython-input-25-0e1a2c615eb7>\u001b[0m in \u001b[0;36mmoveAverage\u001b[0;34m(list, n)\u001b[0m\n\u001b[1;32m     13\u001b[0m     \u001b[0ml\u001b[0m \u001b[0;34m=\u001b[0m \u001b[0mnp\u001b[0m\u001b[0;34m.\u001b[0m\u001b[0marray\u001b[0m\u001b[0;34m(\u001b[0m\u001b[0mlist\u001b[0m\u001b[0;34m)\u001b[0m\u001b[0;34m\u001b[0m\u001b[0m\n\u001b[1;32m     14\u001b[0m     \u001b[0;32mfor\u001b[0m \u001b[0mi\u001b[0m \u001b[0;32min\u001b[0m \u001b[0mxrange\u001b[0m\u001b[0;34m(\u001b[0m\u001b[0mn\u001b[0m\u001b[0;34m-\u001b[0m\u001b[0;36m1\u001b[0m\u001b[0;34m,\u001b[0m\u001b[0mlen\u001b[0m\u001b[0;34m(\u001b[0m\u001b[0mlist\u001b[0m\u001b[0;34m)\u001b[0m\u001b[0;34m)\u001b[0m\u001b[0;34m:\u001b[0m\u001b[0;34m\u001b[0m\u001b[0m\n\u001b[0;32m---> 15\u001b[0;31m         \u001b[0mnew\u001b[0m\u001b[0;34m[\u001b[0m\u001b[0mi\u001b[0m\u001b[0;34m]\u001b[0m\u001b[0;34m=\u001b[0m\u001b[0ml\u001b[0m\u001b[0;34m[\u001b[0m\u001b[0mi\u001b[0m\u001b[0;34m-\u001b[0m\u001b[0mn\u001b[0m\u001b[0;34m+\u001b[0m\u001b[0;36m1\u001b[0m\u001b[0;34m:\u001b[0m\u001b[0mi\u001b[0m\u001b[0;34m]\u001b[0m\u001b[0;34m.\u001b[0m\u001b[0mmean\u001b[0m\u001b[0;34m(\u001b[0m\u001b[0;34m)\u001b[0m\u001b[0;34m\u001b[0m\u001b[0m\n\u001b[0m\u001b[1;32m     16\u001b[0m     \u001b[0;32mreturn\u001b[0m \u001b[0mnew\u001b[0m\u001b[0;34m\u001b[0m\u001b[0m\n\u001b[1;32m     17\u001b[0m \u001b[0;31m#获取滞后几日的收益率\u001b[0m\u001b[0;34m\u001b[0m\u001b[0;34m\u001b[0m\u001b[0m\n",
      "\u001b[0;32m/System/Library/Frameworks/Python.framework/Versions/2.7/Extras/lib/python/numpy/core/_methods.pyc\u001b[0m in \u001b[0;36m_mean\u001b[0;34m(a, axis, dtype, out, keepdims)\u001b[0m\n\u001b[1;32m     65\u001b[0m                 ret, rcount, out=ret, casting='unsafe', subok=False)\n\u001b[1;32m     66\u001b[0m     \u001b[0;32melse\u001b[0m\u001b[0;34m:\u001b[0m\u001b[0;34m\u001b[0m\u001b[0m\n\u001b[0;32m---> 67\u001b[0;31m         \u001b[0mret\u001b[0m \u001b[0;34m=\u001b[0m \u001b[0mret\u001b[0m\u001b[0;34m.\u001b[0m\u001b[0mdtype\u001b[0m\u001b[0;34m.\u001b[0m\u001b[0mtype\u001b[0m\u001b[0;34m(\u001b[0m\u001b[0mret\u001b[0m \u001b[0;34m/\u001b[0m \u001b[0mrcount\u001b[0m\u001b[0;34m)\u001b[0m\u001b[0;34m\u001b[0m\u001b[0m\n\u001b[0m\u001b[1;32m     68\u001b[0m \u001b[0;34m\u001b[0m\u001b[0m\n\u001b[1;32m     69\u001b[0m     \u001b[0;32mreturn\u001b[0m \u001b[0mret\u001b[0m\u001b[0;34m\u001b[0m\u001b[0m\n",
      "\u001b[0;31mAttributeError\u001b[0m: 'int' object has no attribute 'dtype'"
     ]
    }
   ],
   "source": [
    "#定义三个时间序列\n",
    "times = []\n",
    "feelings = []\n",
    "closePrices = []\n",
    "#遍历原始数据，生成三个时间序列\n",
    "\n",
    "for trade in trade_list:\n",
    "    time = trade['time']\n",
    "    times.append(time)\n",
    "    closePrices.append(trade['closePrice'])\n",
    "    #查找这个时间的利好条数和位置\n",
    "    f = findFeeling(time,feeling_list)\n",
    "    feelings.append(f)\n",
    "print feelings\n",
    "feeling_7ma = moveAverage(feelings,7)\n",
    "Rate_3day = dayRate(closePrices,3)\n",
    "Rate_7day = dayRate(closePrices,7)\n",
    "Rate_10day = dayRate(closePrices,10)\n",
    "Rate_20day = dayRate(closePrices,20)"
   ]
  },
  {
   "cell_type": "code",
   "execution_count": null,
   "metadata": {
    "collapsed": false
   },
   "outputs": [],
   "source": [
    "#构建pandas数组\n",
    "data = {'time': times[9:],\n",
    "        'feeling': feelings[9:],\n",
    "        'closePrice': closePrices[9:],\n",
    "        'feeling_7ma':feeling_7ma[9:],\n",
    "        'Rate_3day': Rate_3day[9:],      \n",
    "        'Rate_7day': Rate_7day[9:],\n",
    "        'Rate_10day': Rate_10day[9:],\n",
    "        'Rate_20day': Rate_20day[9:],\n",
    "       }\n",
    "frame = DataFrame(data)\n",
    "#将time作为索引\n",
    "stockInfo = frame.set_index('time')"
   ]
  },
  {
   "cell_type": "code",
   "execution_count": null,
   "metadata": {
    "collapsed": false
   },
   "outputs": [],
   "source": [
    "#将这两个数据放置到图片上\n",
    "#将两列数据进行标准化并作图\n",
    "# stockInfo.Rate_7day.plot(color='red',figsize=(12,8))\n",
    "# stockInfo.feeling_7ma.plot(color='green')\n",
    "# stockInfo.feeling.plot(color='gray',kind='bar')\n",
    "# plt.legend(loc='best')\n",
    "stockInfo_stand = stockInfo.apply(lambda x:(x-np.min(x))/(np.max(x)-np.min(x)))\n",
    "stockInfo_stand.Rate_20day.plot(color='yellow',figsize=(12,4))\n",
    "stockInfo_stand.Rate_10day.plot(color='red',figsize=(12,4))\n",
    "stockInfo_stand.Rate_7day.plot(color='blue',figsize=(12,4))\n",
    "stockInfo_stand.Rate_3day.plot(color='black',figsize=(12,4))\n",
    "stockInfo_stand.feeling_7ma.plot(color='green')\n",
    "stockInfo_stand.feeling.plot(color='gray',kind='bar')\n",
    "plt.legend(loc='best')"
   ]
  },
  {
   "cell_type": "markdown",
   "metadata": {},
   "source": [
    "# 2.对股票数据分析适用ARIMA模型"
   ]
  },
  {
   "cell_type": "code",
   "execution_count": null,
   "metadata": {
    "collapsed": false
   },
   "outputs": [],
   "source": [
    "%%R\n",
    "library(TSA)"
   ]
  },
  {
   "cell_type": "code",
   "execution_count": null,
   "metadata": {
    "collapsed": false
   },
   "outputs": [],
   "source": [
    "#将时间序列数据形成numPy对象\n",
    "dta = np.array(closePrices)"
   ]
  },
  {
   "cell_type": "code",
   "execution_count": null,
   "metadata": {
    "collapsed": false
   },
   "outputs": [],
   "source": [
    "%%R -i dta -w 800 -h 300\n",
    "#画图并观察自相关函数\n",
    "plot(dta,ylab='closePrices',type='o')\n",
    "acf(as.vector(co2),lag.max=36)"
   ]
  },
  {
   "cell_type": "code",
   "execution_count": null,
   "metadata": {
    "collapsed": false
   },
   "outputs": [],
   "source": [
    "%%R -i dta -w 800 -h 300\n",
    "#观察一阶差分\n",
    "plot(diff(dta),ylab='First Difference of closePrices',type='o')\n",
    "acf(as.vector(diff(dta)),lag.max=36)\n",
    "pacf(as.vector(diff(dta)),lag.max=36)"
   ]
  },
  {
   "cell_type": "code",
   "execution_count": null,
   "metadata": {
    "collapsed": false
   },
   "outputs": [],
   "source": [
    "%%R -i dta -w 800 -h 300\n",
    "#观察二阶差分\n",
    "plot(diff(diff(dta)),ylab='First Difference of closePrices',type='o')\n",
    "acf(as.vector(diff(diff(dta))),lag.max=36)\n",
    "pacf(as.vector(diff(diff(dta))),lag.max=36)"
   ]
  },
  {
   "cell_type": "markdown",
   "metadata": {},
   "source": [
    "从上图可以看出二阶差分基本上比较平稳，选取二阶差分数据进行建模，根据ACF和PACF判断应该建立ARIMA(6,1,0)模型"
   ]
  },
  {
   "cell_type": "code",
   "execution_count": null,
   "metadata": {
    "collapsed": false
   },
   "outputs": [],
   "source": [
    "%%R -i dta\n",
    "#建立ARIMA(5，2，1)模型\n",
    "m1.dta = arima(dta,order=c(7,2,1))\n",
    "m1.dta"
   ]
  },
  {
   "cell_type": "code",
   "execution_count": null,
   "metadata": {
    "collapsed": false
   },
   "outputs": [],
   "source": [
    "%%R\n",
    "#QQ图\n",
    "qqnorm(window(rstandard(m1.dta),start=1))\n",
    "qqline(window(rstandard(m1.dta),start = 1))"
   ]
  },
  {
   "cell_type": "code",
   "execution_count": null,
   "metadata": {
    "collapsed": false
   },
   "outputs": [],
   "source": [
    "%%R -w 800 -h 300\n",
    "plot(m1.dta,n.ahead=7,xlab='Year',type='o',ylab='CO2 Levels')"
   ]
  },
  {
   "cell_type": "markdown",
   "metadata": {},
   "source": [
    "# 3.建立干预模型"
   ]
  },
  {
   "cell_type": "code",
   "execution_count": null,
   "metadata": {
    "collapsed": true
   },
   "outputs": [],
   "source": []
  }
 ],
 "metadata": {
  "kernelspec": {
   "display_name": "Python 2",
   "language": "python",
   "name": "python2"
  },
  "language_info": {
   "codemirror_mode": {
    "name": "ipython",
    "version": 2
   },
   "file_extension": ".py",
   "mimetype": "text/x-python",
   "name": "python",
   "nbconvert_exporter": "python",
   "pygments_lexer": "ipython2",
   "version": "2.7.10"
  }
 },
 "nbformat": 4,
 "nbformat_minor": 0
}
