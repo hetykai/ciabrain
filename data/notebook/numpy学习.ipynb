{
 "cells": [
  {
   "cell_type": "markdown",
   "metadata": {},
   "source": [
    "# 1.Array"
   ]
  },
  {
   "cell_type": "code",
   "execution_count": 2,
   "metadata": {
    "collapsed": true
   },
   "outputs": [],
   "source": [
    "import numpy as np\n",
    "from StringIO import StringIO"
   ]
  },
  {
   "cell_type": "code",
   "execution_count": 2,
   "metadata": {
    "collapsed": false
   },
   "outputs": [
    {
     "data": {
      "text/plain": [
       "array([[[0, 0, 0, 0],\n",
       "        [1, 1, 1, 1],\n",
       "        [2, 2, 2, 2],\n",
       "        [3, 3, 3, 3]],\n",
       "\n",
       "       [[0, 1, 2, 3],\n",
       "        [0, 1, 2, 3],\n",
       "        [0, 1, 2, 3],\n",
       "        [0, 1, 2, 3]]])"
      ]
     },
     "execution_count": 2,
     "metadata": {},
     "output_type": "execute_result"
    }
   ],
   "source": [
    "#创建Array类型\n",
    "np.array([2,3,4,5])#创建一般数组\n",
    "np.zeros((2,3))#创建初始化的0值数组\n",
    "np.arange(10)#按顺序从0-9\n",
    "np.arange(2,10,dtype=np.float)#指定区间和类型\n",
    "np.arange(2,3,0.1)#指定间隔和区间\n",
    "np.linspace(1.,4.,6)#创建线性数组并指定数组的个数\n",
    "np.indices((4,4))#返回两个类型的矩阵"
   ]
  },
  {
   "cell_type": "code",
   "execution_count": 3,
   "metadata": {
    "collapsed": false
   },
   "outputs": [
    {
     "ename": "StopIteration",
     "evalue": "",
     "output_type": "error",
     "traceback": [
      "\u001b[0;31m---------------------------------------------------------------------------\u001b[0m",
      "\u001b[0;31mStopIteration\u001b[0m                             Traceback (most recent call last)",
      "\u001b[0;32m<ipython-input-3-b04fdf8dd28e>\u001b[0m in \u001b[0;36m<module>\u001b[0;34m()\u001b[0m\n\u001b[1;32m      7\u001b[0m \u001b[0mnp\u001b[0m\u001b[0;34m.\u001b[0m\u001b[0mgenfromtxt\u001b[0m\u001b[0;34m(\u001b[0m\u001b[0mStringIO\u001b[0m\u001b[0;34m(\u001b[0m\u001b[0mdata\u001b[0m\u001b[0;34m)\u001b[0m\u001b[0;34m,\u001b[0m \u001b[0mdelimiter\u001b[0m\u001b[0;34m=\u001b[0m\u001b[0;34m\",\"\u001b[0m\u001b[0;34m,\u001b[0m \u001b[0mdtype\u001b[0m\u001b[0;34m=\u001b[0m\u001b[0;34m\"|S5\"\u001b[0m\u001b[0;34m,\u001b[0m \u001b[0mautostrip\u001b[0m\u001b[0;34m=\u001b[0m\u001b[0mTrue\u001b[0m\u001b[0;34m)\u001b[0m\u001b[0;31m#去掉空格\u001b[0m\u001b[0;34m\u001b[0m\u001b[0m\n\u001b[1;32m      8\u001b[0m \u001b[0mnp\u001b[0m\u001b[0;34m.\u001b[0m\u001b[0mgenfromtxt\u001b[0m\u001b[0;34m(\u001b[0m\u001b[0mStringIO\u001b[0m\u001b[0;34m(\u001b[0m\u001b[0mdata\u001b[0m\u001b[0;34m)\u001b[0m\u001b[0;34m,\u001b[0m \u001b[0mcomments\u001b[0m\u001b[0;34m=\u001b[0m\u001b[0;34m\"#\"\u001b[0m\u001b[0;34m,\u001b[0m \u001b[0mdelimiter\u001b[0m\u001b[0;34m=\u001b[0m\u001b[0;34m\",\"\u001b[0m\u001b[0;34m)\u001b[0m\u001b[0;31m#忽略注释内容\u001b[0m\u001b[0;34m\u001b[0m\u001b[0m\n\u001b[0;32m----> 9\u001b[0;31m \u001b[0mnp\u001b[0m\u001b[0;34m.\u001b[0m\u001b[0mgenfromtxt\u001b[0m\u001b[0;34m(\u001b[0m\u001b[0mStringIO\u001b[0m\u001b[0;34m(\u001b[0m\u001b[0mdata\u001b[0m\u001b[0;34m)\u001b[0m\u001b[0;34m,\u001b[0m\u001b[0mskip_header\u001b[0m\u001b[0;34m=\u001b[0m\u001b[0;36m3\u001b[0m\u001b[0;34m,\u001b[0m\u001b[0mskip_footer\u001b[0m\u001b[0;34m=\u001b[0m\u001b[0;36m5\u001b[0m\u001b[0;34m)\u001b[0m\u001b[0;31m#截取指定行之间的数据\u001b[0m\u001b[0;34m\u001b[0m\u001b[0m\n\u001b[0m\u001b[1;32m     10\u001b[0m \u001b[0mnp\u001b[0m\u001b[0;34m.\u001b[0m\u001b[0mgenfromtxt\u001b[0m\u001b[0;34m(\u001b[0m\u001b[0mStringIO\u001b[0m\u001b[0;34m(\u001b[0m\u001b[0mdata\u001b[0m\u001b[0;34m)\u001b[0m\u001b[0;34m,\u001b[0m\u001b[0musecols\u001b[0m\u001b[0;34m=\u001b[0m\u001b[0;34m(\u001b[0m\u001b[0;36m0\u001b[0m\u001b[0;34m,\u001b[0m\u001b[0;34m-\u001b[0m\u001b[0;36m1\u001b[0m\u001b[0;34m)\u001b[0m\u001b[0;34m)\u001b[0m\u001b[0;31m#选取指定列\u001b[0m\u001b[0;34m\u001b[0m\u001b[0m\n\u001b[1;32m     11\u001b[0m \u001b[0mnp\u001b[0m\u001b[0;34m.\u001b[0m\u001b[0mgenfromtxt\u001b[0m\u001b[0;34m(\u001b[0m\u001b[0mStringIO\u001b[0m\u001b[0;34m(\u001b[0m\u001b[0mdata\u001b[0m\u001b[0;34m)\u001b[0m\u001b[0;34m,\u001b[0m\u001b[0mnames\u001b[0m\u001b[0;34m=\u001b[0m\u001b[0;34m\"a,b,c\"\u001b[0m\u001b[0;34m,\u001b[0m\u001b[0musecols\u001b[0m\u001b[0;34m=\u001b[0m\u001b[0;34m(\u001b[0m\u001b[0;34m\"a\"\u001b[0m\u001b[0;34m,\u001b[0m\u001b[0;34m\"c\"\u001b[0m\u001b[0;34m)\u001b[0m\u001b[0;34m)\u001b[0m\u001b[0;31m#指定名字，按名字选取指定列\u001b[0m\u001b[0;34m\u001b[0m\u001b[0m\n",
      "\u001b[0;32m/System/Library/Frameworks/Python.framework/Versions/2.7/Extras/lib/python/numpy/lib/npyio.pyc\u001b[0m in \u001b[0;36mgenfromtxt\u001b[0;34m(fname, dtype, comments, delimiter, skiprows, skip_header, skip_footer, converters, missing, missing_values, filling_values, usecols, names, excludelist, deletechars, replace_space, autostrip, case_sensitive, defaultfmt, unpack, usemask, loose, invalid_raise)\u001b[0m\n\u001b[1;32m   1353\u001b[0m     \u001b[0;31m# Skip the first `skip_header` rows\u001b[0m\u001b[0;34m\u001b[0m\u001b[0;34m\u001b[0m\u001b[0m\n\u001b[1;32m   1354\u001b[0m     \u001b[0;32mfor\u001b[0m \u001b[0mi\u001b[0m \u001b[0;32min\u001b[0m \u001b[0mrange\u001b[0m\u001b[0;34m(\u001b[0m\u001b[0mskip_header\u001b[0m\u001b[0;34m)\u001b[0m\u001b[0;34m:\u001b[0m\u001b[0;34m\u001b[0m\u001b[0m\n\u001b[0;32m-> 1355\u001b[0;31m         \u001b[0mnext\u001b[0m\u001b[0;34m(\u001b[0m\u001b[0mfhd\u001b[0m\u001b[0;34m)\u001b[0m\u001b[0;34m\u001b[0m\u001b[0m\n\u001b[0m\u001b[1;32m   1356\u001b[0m \u001b[0;34m\u001b[0m\u001b[0m\n\u001b[1;32m   1357\u001b[0m     \u001b[0;31m# Keep on until we find the first valid values\u001b[0m\u001b[0;34m\u001b[0m\u001b[0;34m\u001b[0m\u001b[0m\n",
      "\u001b[0;31mStopIteration\u001b[0m: "
     ]
    }
   ],
   "source": [
    "#从文本中载入数据\n",
    "data = \"1,2,3\\n4,5,6\"#读取csv文件，一般为None，默认TAB或空格\n",
    "np.genfromtxt(StringIO(data),delimiter=\",\")\n",
    "data = \"  1  2  3\\n  4  5 67\\n89012 4\"#分割按固定长度\n",
    "np.genfromtxt(StringIO(data),delimiter=3)\n",
    "data = \"1, abc , 2\\n 3, xxx, 4\"#自动去掉空格，设定字符串类型\n",
    "np.genfromtxt(StringIO(data), delimiter=\",\", dtype=\"|S5\", autostrip=True)#去掉空格\n",
    "np.genfromtxt(StringIO(data), comments=\"#\", delimiter=\",\")#忽略注释内容\n",
    "np.genfromtxt(StringIO(data),skip_header=3,skip_footer=5)#截取指定行之间的数据\n",
    "np.genfromtxt(StringIO(data),usecols=(0,-1))#选取指定列\n",
    "np.genfromtxt(StringIO(data),names=\"a,b,c\",usecols=(\"a\",\"c\"))#指定名字，按名字选取指定列\n",
    "#选择数据类型"
   ]
  },
  {
   "cell_type": "code",
   "execution_count": 4,
   "metadata": {
    "collapsed": false,
    "scrolled": true
   },
   "outputs": [
    {
     "data": {
      "text/plain": [
       "array([(1, 2.0, 3), (4, 5.0, 6)], \n",
       "      dtype=[('A', '<i8'), ('B', '<f8'), ('C', '<i8')])"
      ]
     },
     "execution_count": 4,
     "metadata": {},
     "output_type": "execute_result"
    }
   ],
   "source": [
    "#设置命名\n",
    "data = StringIO(\"1 2 3\\n 4 5 6\")\n",
    "np.genfromtxt(data,names=\"A,B,C\")\n",
    "#数据中设置命名\n",
    "data = StringIO(\"So it goes\\n#a b c\\n1 2 3\\n4 5 6\")\n",
    "np.genfromtxt(data,skip_header=1,names=True)#直接设置为True\n",
    "#重新设置\n",
    "data = StringIO(\"1 2 3\\n4 5 6\")\n",
    "ndtype = [('a',int),('b',float),('c',int)]\n",
    "names = [\"A\",\"B\",\"C\"]\n",
    "np.genfromtxt(data,names=names,dtype=ndtype)\n",
    "#如果没有设置命名空间，则默认为\"f%i\",也可以有一个命名，空缺的按规则补足"
   ]
  },
  {
   "cell_type": "code",
   "execution_count": 6,
   "metadata": {
    "collapsed": false
   },
   "outputs": [
    {
     "data": {
      "text/plain": [
       "array([(0, 2, 3), (4, 0, -999)], \n",
       "      dtype=[('a', '<i8'), ('b', '<i8'), ('c', '<i8')])"
      ]
     },
     "execution_count": 6,
     "metadata": {},
     "output_type": "execute_result"
    }
   ],
   "source": [
    "#转换数据内容，可以设置转换函数\n",
    "convertfunc = lambda x:float(x.strip(\"%\"))/100.\n",
    "data =\"1,2.3%,45.\\n6,78.9%,0\"\n",
    "names = (\"i\",\"p\",\"n\")\n",
    "#可以使用name作为列，使用转换函数\n",
    "np.genfromtxt(StringIO(data),delimiter=\",\",names=names,converters={1:convertfunc})\n",
    "#将丢失的值转换为0或者其他\n",
    "data = \"N/A,2,3\\n4, ,???\"\n",
    "kwargs = dict(delimiter=\",\",\n",
    "             dtype = int,\n",
    "             names=\"a,b,c\",\n",
    "             missing_values={0:\"N/A\",'b':\" \",2:\"???\"},\n",
    "             filling_values={0:0,'b':0,2:-999})\n",
    "np.genfromtxt(StringIO(data),**kwargs)"
   ]
  },
  {
   "cell_type": "markdown",
   "metadata": {
    "collapsed": true
   },
   "source": [
    "### 其他类型的读取文件的函数\n",
    "ndfromtxt: 默认设置 usemask = False,生成一个标准的numpy.ndarray\n",
    "\n",
    "mafromtxt: 默认设置 usemask = True,生成一个标准的MaskedArray\n",
    "\n",
    "recfromtxt:默认设置 dtype = None, 生成一个numpy.recarray(usemask=False),或者MaskedArray(usemaske=True)\n",
    "\n",
    "recfromcsv:默认设置 delimiter = \",\" 功能和recfromtxt类似。\n"
   ]
  },
  {
   "cell_type": "markdown",
   "metadata": {},
   "source": [
    "# 2.索引（Indexing）"
   ]
  },
  {
   "cell_type": "code",
   "execution_count": 17,
   "metadata": {
    "collapsed": false
   },
   "outputs": [
    {
     "name": "stdout",
     "output_type": "stream",
     "text": [
      "[10  9  8  7  6  5  4  3  2]\n"
     ]
    }
   ],
   "source": [
    "#一维素索引（Single element indexing），索引不算最后一个元素\n",
    "x = np.arange(10)\n",
    "x[2]#返回第3个元素\n",
    "x[-1]#返回倒数第1个元素\n",
    "x[2:5]#返回第3个到第4个元素\n",
    "x[:-7]#返回第1个到倒数第8个元素\n",
    "x[1:7:2]#返回第2个元素和第6个元素之间，步长为2的元素\n",
    "\n",
    "#多维数组元素索引（Single element indexing）\n",
    "x.shape =(2,5)#将1维数组转换成2维数组\n",
    "x[1,3]#返回第2行第4列的元素\n",
    "x[1,-1]#范围第2行倒数第一个元素\n",
    "x[0]#多维数组，返回第0行数据\n",
    "x[0][2]#返回第1行第2列元素\n",
    "y[1:5:2,::3]#返回一个切片矩阵\n",
    "\n",
    "#一维数组索引\n",
    "x = np.arange(10,1,-1)\n",
    "x[np.array([3,3,1,8])]#从x中选择指定的元素，可以重复选取，返回一个结果，数组类型为[]中创建的属猪类型。\n",
    "x[np.array([1,1],[2,3])]#返回一个二维数组\n",
    "\n",
    "#二维数组索引\n",
    "y[np.array([0,2,4]), np.array([0,1,2])] #挑选[0,0],[2,1],[4,2]这三个元素形成一个数组\n",
    "y[np.array([0,2,4]), 1] #返回第2列的，0，2，4这几个元素并形成一个数组\n",
    "y[np.array([0,2,4])]#返回第0行，第2行，第4行的数组。\n",
    "\n",
    "#布林和mask索引数组\n",
    "b = y>20#设置一个条件\n",
    "y[b]#按照条件返回一个数组"
   ]
  },
  {
   "cell_type": "code",
   "execution_count": 7,
   "metadata": {
    "collapsed": false
   },
   "outputs": [
    {
     "data": {
      "text/plain": [
       "array([[0, 1, 2, 3, 4],\n",
       "       [1, 2, 3, 4, 5],\n",
       "       [2, 3, 4, 5, 6],\n",
       "       [3, 4, 5, 6, 7],\n",
       "       [4, 5, 6, 7, 8]])"
      ]
     },
     "execution_count": 7,
     "metadata": {},
     "output_type": "execute_result"
    }
   ],
   "source": [
    "x = np.arange(5)\n",
    "x[:,np.newaxis]+x[np.newaxis,:]#np.newaxis增加一个占位行"
   ]
  },
  {
   "cell_type": "code",
   "execution_count": 11,
   "metadata": {
    "collapsed": false
   },
   "outputs": [
    {
     "name": "stdout",
     "output_type": "stream",
     "text": [
      "[[29 32 35]\n",
      " [38 41 44]\n",
      " [47 50 53]]\n"
     ]
    }
   ],
   "source": [
    "z = np.arange(81).reshape(3,3,3,3)\n",
    "print z[1,...,2]"
   ]
  },
  {
   "cell_type": "code",
   "execution_count": 16,
   "metadata": {
    "collapsed": false
   },
   "outputs": [
    {
     "data": {
      "text/plain": [
       "array([ 0, 11, 20, 31, 40])"
      ]
     },
     "execution_count": 16,
     "metadata": {},
     "output_type": "execute_result"
    }
   ],
   "source": [
    "#定义索引的值,\n",
    "x = np.arange(0,50,10)\n",
    "x[np.array([1,1,3,1])]+=1#不会增加3次，只会三次调取原始的数组而不是新的数组。"
   ]
  },
  {
   "cell_type": "code",
   "execution_count": 22,
   "metadata": {
    "collapsed": false
   },
   "outputs": [
    {
     "data": {
      "text/plain": [
       "14"
      ]
     },
     "execution_count": 22,
     "metadata": {},
     "output_type": "execute_result"
    }
   ],
   "source": [
    "#处理数量不定的数组\n",
    "indices = (0,1,1,2)\n",
    "z[indices]"
   ]
  },
  {
   "cell_type": "code",
   "execution_count": 24,
   "metadata": {
    "collapsed": false
   },
   "outputs": [
    {
     "data": {
      "text/plain": [
       "array([ 2.,  4.,  6.])"
      ]
     },
     "execution_count": 24,
     "metadata": {},
     "output_type": "execute_result"
    }
   ],
   "source": [
    "#操作\n",
    "a = np.array([1.0,2.0,3.0])\n",
    "b = np.array([2.0,2.0,2.0])\n",
    "a*b#乘法操作默认是按元素来进行的\n",
    "#乘以常量\n",
    "a = np.array([1.0,2.0,3.0])\n",
    "b = 2.0\n",
    "a*b\n"
   ]
  },
  {
   "cell_type": "markdown",
   "metadata": {
    "collapsed": true
   },
   "source": [
    "# 3.数组转置（transpose）和轴对换"
   ]
  },
  {
   "cell_type": "code",
   "execution_count": 5,
   "metadata": {
    "collapsed": false
   },
   "outputs": [
    {
     "data": {
      "text/plain": [
       "array([[ 0,  5, 10],\n",
       "       [ 1,  6, 11],\n",
       "       [ 2,  7, 12],\n",
       "       [ 3,  8, 13],\n",
       "       [ 4,  9, 14]])"
      ]
     },
     "execution_count": 5,
     "metadata": {},
     "output_type": "execute_result"
    }
   ],
   "source": [
    "#数组转置\n",
    "arr = np.arange(15).reshape((3,5))\n",
    "arr.T"
   ]
  },
  {
   "cell_type": "code",
   "execution_count": 6,
   "metadata": {
    "collapsed": false
   },
   "outputs": [
    {
     "data": {
      "text/plain": [
       "array([[ 3.58782145, -2.07461096,  0.29194708],\n",
       "       [-2.07461096,  8.24052857,  4.82574595],\n",
       "       [ 0.29194708,  4.82574595,  8.60213194]])"
      ]
     },
     "execution_count": 6,
     "metadata": {},
     "output_type": "execute_result"
    }
   ],
   "source": [
    "#矩阵内积计算\n",
    "arr = np.random.randn(6,3)\n",
    "np.dot(arr.T,arr)"
   ]
  },
  {
   "cell_type": "code",
   "execution_count": 8,
   "metadata": {
    "collapsed": false
   },
   "outputs": [
    {
     "data": {
      "text/plain": [
       "array([[[ 0,  4],\n",
       "        [ 1,  5],\n",
       "        [ 2,  6],\n",
       "        [ 3,  7]],\n",
       "\n",
       "       [[ 8, 12],\n",
       "        [ 9, 13],\n",
       "        [10, 14],\n",
       "        [11, 15]]])"
      ]
     },
     "execution_count": 8,
     "metadata": {},
     "output_type": "execute_result"
    }
   ],
   "source": [
    "#对高位数组，转置需要有轴编号组成的元组才能转置\n",
    "arr = np.arange(16).reshape((2,2,4))\n",
    "arr.transpose((1,0,2))\n",
    "arr.swapaxes(1,2)#转置其中的两个轴，只是视图，原数据并不发生变化。"
   ]
  },
  {
   "cell_type": "markdown",
   "metadata": {},
   "source": [
    "# 4.通用函数（ufunc）:元素级操作"
   ]
  },
  {
   "cell_type": "code",
   "execution_count": 9,
   "metadata": {
    "collapsed": false
   },
   "outputs": [
    {
     "data": {
      "text/plain": [
       "array([ 0.        ,  1.        ,  1.41421356,  1.73205081,  2.        ,\n",
       "        2.23606798,  2.44948974,  2.64575131,  2.82842712,  3.        ])"
      ]
     },
     "execution_count": 9,
     "metadata": {},
     "output_type": "execute_result"
    }
   ],
   "source": [
    "#一元ufunc\n",
    "arr = np.arange(10)\n",
    "np.sqrt(arr)#求平方根\n",
    "np.exp(arr)#求自然指数\n",
    "np.abs(arr)#计算绝对值\n",
    "np.square(arr)#计算平方\n",
    "np.log(arr)#自然对数\n",
    "np.log10(arr)#底数为10的对数\n",
    "np.log1p(arr)#log(1+x)的对数\n",
    "np.sign(arr)#计算各元素的正负号\n",
    "np.ceil(arr)#计算大于等于该值得罪小整数\n",
    "np.floor(arr)#计算小于等于该值得最大整数\n",
    "np.rint(arr)#四舍五入到最接近的整数\n",
    "np.modf(arr)#将数组的小数和整数部分独立的返回\n",
    "np.isnan(arr)#返回哪些是nan的布尔型数组\n",
    "np.isfinite(arr)#返回哪些是有穷的\n",
    "np.isinf(arr)#返回哪些是无穷的\n",
    "np.cos(arr)#三角函数\n",
    "np.cosh(arr)\n",
    "np.sin(arr)\n",
    "np.sinh(arr)\n",
    "np.tan(arr)\n",
    "np.tanh(arr)\n",
    "np.arccos(arr)#反三角函数\n",
    "np.arccosh(arr)#反三角函数\n",
    "np.logical_not(arr)#返回各元素not x的真值"
   ]
  },
  {
   "cell_type": "code",
   "execution_count": 13,
   "metadata": {
    "collapsed": false
   },
   "outputs": [
    {
     "data": {
      "text/plain": [
       "array([ 1.1079115 ,  1.5995992 ,  0.22917406,  0.84771533,  0.90068898,\n",
       "        0.53146334, -0.46359146,  0.87433577])"
      ]
     },
     "execution_count": 13,
     "metadata": {},
     "output_type": "execute_result"
    }
   ],
   "source": [
    "#二元ufunc\n",
    "x = np.random.randn(8)\n",
    "y = np.random.randn(8)\n",
    "np.maximum(x,y)#返回元素级最大值\n",
    "np.add#将数组对应元素相加\n",
    "np.subtract(x,y)#减法\n",
    "np.multiply(x,y)#乘法\n",
    "divide、floor_divide#除法，整除\n",
    "power#计算A^B\n",
    "maximum,fmax#最大值，fmax忽略NAN\n",
    "minimum,fmin#最小值\n",
    "mod#求模计算，除法余数\n",
    "copysign#将第二个数组的值得符号复制给第一组\n",
    "greater,greater_equal#比较运算，产生布尔型数组\n",
    "less,less_equal,equal,not_equal\n",
    "logical_and,logical_or,logical_xor#逻辑运算。"
   ]
  },
  {
   "cell_type": "code",
   "execution_count": 15,
   "metadata": {
    "collapsed": false
   },
   "outputs": [
    {
     "data": {
      "text/plain": [
       "(array([-0.1328512 , -0.77089373, -0.12626944, -0.1093083 , -0.03433185,\n",
       "         0.93857552, -0.40806209]), array([-8., -1., -1., -4., -2.,  3., -3.]))"
      ]
     },
     "execution_count": 15,
     "metadata": {},
     "output_type": "execute_result"
    }
   ],
   "source": [
    "#返回多个数组\n",
    "arr = np.random.randn(7)*5\n",
    "np.modf(arr)#返回浮点数的小数部分和整数部分"
   ]
  },
  {
   "cell_type": "markdown",
   "metadata": {},
   "source": [
    "# 5.利用数组进行数据处理"
   ]
  },
  {
   "cell_type": "code",
   "execution_count": null,
   "metadata": {
    "collapsed": true
   },
   "outputs": [],
   "source": []
  }
 ],
 "metadata": {
  "kernelspec": {
   "display_name": "Python 2",
   "language": "python",
   "name": "python2"
  },
  "language_info": {
   "codemirror_mode": {
    "name": "ipython",
    "version": 2
   },
   "file_extension": ".py",
   "mimetype": "text/x-python",
   "name": "python",
   "nbconvert_exporter": "python",
   "pygments_lexer": "ipython2",
   "version": "2.7.10"
  }
 },
 "nbformat": 4,
 "nbformat_minor": 0
}
