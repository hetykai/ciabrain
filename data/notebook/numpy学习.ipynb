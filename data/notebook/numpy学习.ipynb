{
 "cells": [
  {
   "cell_type": "markdown",
   "metadata": {},
   "source": [
    "# 1.Array"
   ]
  },
  {
   "cell_type": "code",
   "execution_count": 1,
   "metadata": {
    "collapsed": true
   },
   "outputs": [],
   "source": [
    "import numpy as np\n",
    "from StringIO import StringIO"
   ]
  },
  {
   "cell_type": "code",
   "execution_count": 2,
   "metadata": {
    "collapsed": false
   },
   "outputs": [
    {
     "data": {
      "text/plain": [
       "array([[[0, 0, 0, 0],\n",
       "        [1, 1, 1, 1],\n",
       "        [2, 2, 2, 2],\n",
       "        [3, 3, 3, 3]],\n",
       "\n",
       "       [[0, 1, 2, 3],\n",
       "        [0, 1, 2, 3],\n",
       "        [0, 1, 2, 3],\n",
       "        [0, 1, 2, 3]]])"
      ]
     },
     "execution_count": 2,
     "metadata": {},
     "output_type": "execute_result"
    }
   ],
   "source": [
    "#创建Array类型\n",
    "np.array([2,3,4,5])#创建一般数组\n",
    "np.zeros((2,3))#创建初始化的0值数组\n",
    "np.arange(10)#按顺序从0-9\n",
    "np.arange(2,10,dtype=np.float)#指定区间和类型\n",
    "np.arange(2,3,0.1)#指定间隔和区间\n",
    "np.linspace(1.,4.,6)#创建线性数组并指定数组的个数\n",
    "np.indices((4,4))#返回两个类型的矩阵"
   ]
  },
  {
   "cell_type": "code",
   "execution_count": 3,
   "metadata": {
    "collapsed": false
   },
   "outputs": [
    {
     "ename": "StopIteration",
     "evalue": "",
     "output_type": "error",
     "traceback": [
      "\u001b[0;31m---------------------------------------------------------------------------\u001b[0m",
      "\u001b[0;31mStopIteration\u001b[0m                             Traceback (most recent call last)",
      "\u001b[0;32m<ipython-input-3-b04fdf8dd28e>\u001b[0m in \u001b[0;36m<module>\u001b[0;34m()\u001b[0m\n\u001b[1;32m      7\u001b[0m \u001b[0mnp\u001b[0m\u001b[0;34m.\u001b[0m\u001b[0mgenfromtxt\u001b[0m\u001b[0;34m(\u001b[0m\u001b[0mStringIO\u001b[0m\u001b[0;34m(\u001b[0m\u001b[0mdata\u001b[0m\u001b[0;34m)\u001b[0m\u001b[0;34m,\u001b[0m \u001b[0mdelimiter\u001b[0m\u001b[0;34m=\u001b[0m\u001b[0;34m\",\"\u001b[0m\u001b[0;34m,\u001b[0m \u001b[0mdtype\u001b[0m\u001b[0;34m=\u001b[0m\u001b[0;34m\"|S5\"\u001b[0m\u001b[0;34m,\u001b[0m \u001b[0mautostrip\u001b[0m\u001b[0;34m=\u001b[0m\u001b[0mTrue\u001b[0m\u001b[0;34m)\u001b[0m\u001b[0;31m#去掉空格\u001b[0m\u001b[0;34m\u001b[0m\u001b[0m\n\u001b[1;32m      8\u001b[0m \u001b[0mnp\u001b[0m\u001b[0;34m.\u001b[0m\u001b[0mgenfromtxt\u001b[0m\u001b[0;34m(\u001b[0m\u001b[0mStringIO\u001b[0m\u001b[0;34m(\u001b[0m\u001b[0mdata\u001b[0m\u001b[0;34m)\u001b[0m\u001b[0;34m,\u001b[0m \u001b[0mcomments\u001b[0m\u001b[0;34m=\u001b[0m\u001b[0;34m\"#\"\u001b[0m\u001b[0;34m,\u001b[0m \u001b[0mdelimiter\u001b[0m\u001b[0;34m=\u001b[0m\u001b[0;34m\",\"\u001b[0m\u001b[0;34m)\u001b[0m\u001b[0;31m#忽略注释内容\u001b[0m\u001b[0;34m\u001b[0m\u001b[0m\n\u001b[0;32m----> 9\u001b[0;31m \u001b[0mnp\u001b[0m\u001b[0;34m.\u001b[0m\u001b[0mgenfromtxt\u001b[0m\u001b[0;34m(\u001b[0m\u001b[0mStringIO\u001b[0m\u001b[0;34m(\u001b[0m\u001b[0mdata\u001b[0m\u001b[0;34m)\u001b[0m\u001b[0;34m,\u001b[0m\u001b[0mskip_header\u001b[0m\u001b[0;34m=\u001b[0m\u001b[0;36m3\u001b[0m\u001b[0;34m,\u001b[0m\u001b[0mskip_footer\u001b[0m\u001b[0;34m=\u001b[0m\u001b[0;36m5\u001b[0m\u001b[0;34m)\u001b[0m\u001b[0;31m#截取指定行之间的数据\u001b[0m\u001b[0;34m\u001b[0m\u001b[0m\n\u001b[0m\u001b[1;32m     10\u001b[0m \u001b[0mnp\u001b[0m\u001b[0;34m.\u001b[0m\u001b[0mgenfromtxt\u001b[0m\u001b[0;34m(\u001b[0m\u001b[0mStringIO\u001b[0m\u001b[0;34m(\u001b[0m\u001b[0mdata\u001b[0m\u001b[0;34m)\u001b[0m\u001b[0;34m,\u001b[0m\u001b[0musecols\u001b[0m\u001b[0;34m=\u001b[0m\u001b[0;34m(\u001b[0m\u001b[0;36m0\u001b[0m\u001b[0;34m,\u001b[0m\u001b[0;34m-\u001b[0m\u001b[0;36m1\u001b[0m\u001b[0;34m)\u001b[0m\u001b[0;34m)\u001b[0m\u001b[0;31m#选取指定列\u001b[0m\u001b[0;34m\u001b[0m\u001b[0m\n\u001b[1;32m     11\u001b[0m \u001b[0mnp\u001b[0m\u001b[0;34m.\u001b[0m\u001b[0mgenfromtxt\u001b[0m\u001b[0;34m(\u001b[0m\u001b[0mStringIO\u001b[0m\u001b[0;34m(\u001b[0m\u001b[0mdata\u001b[0m\u001b[0;34m)\u001b[0m\u001b[0;34m,\u001b[0m\u001b[0mnames\u001b[0m\u001b[0;34m=\u001b[0m\u001b[0;34m\"a,b,c\"\u001b[0m\u001b[0;34m,\u001b[0m\u001b[0musecols\u001b[0m\u001b[0;34m=\u001b[0m\u001b[0;34m(\u001b[0m\u001b[0;34m\"a\"\u001b[0m\u001b[0;34m,\u001b[0m\u001b[0;34m\"c\"\u001b[0m\u001b[0;34m)\u001b[0m\u001b[0;34m)\u001b[0m\u001b[0;31m#指定名字，按名字选取指定列\u001b[0m\u001b[0;34m\u001b[0m\u001b[0m\n",
      "\u001b[0;32m/System/Library/Frameworks/Python.framework/Versions/2.7/Extras/lib/python/numpy/lib/npyio.pyc\u001b[0m in \u001b[0;36mgenfromtxt\u001b[0;34m(fname, dtype, comments, delimiter, skiprows, skip_header, skip_footer, converters, missing, missing_values, filling_values, usecols, names, excludelist, deletechars, replace_space, autostrip, case_sensitive, defaultfmt, unpack, usemask, loose, invalid_raise)\u001b[0m\n\u001b[1;32m   1353\u001b[0m     \u001b[0;31m# Skip the first `skip_header` rows\u001b[0m\u001b[0;34m\u001b[0m\u001b[0;34m\u001b[0m\u001b[0m\n\u001b[1;32m   1354\u001b[0m     \u001b[0;32mfor\u001b[0m \u001b[0mi\u001b[0m \u001b[0;32min\u001b[0m \u001b[0mrange\u001b[0m\u001b[0;34m(\u001b[0m\u001b[0mskip_header\u001b[0m\u001b[0;34m)\u001b[0m\u001b[0;34m:\u001b[0m\u001b[0;34m\u001b[0m\u001b[0m\n\u001b[0;32m-> 1355\u001b[0;31m         \u001b[0mnext\u001b[0m\u001b[0;34m(\u001b[0m\u001b[0mfhd\u001b[0m\u001b[0;34m)\u001b[0m\u001b[0;34m\u001b[0m\u001b[0m\n\u001b[0m\u001b[1;32m   1356\u001b[0m \u001b[0;34m\u001b[0m\u001b[0m\n\u001b[1;32m   1357\u001b[0m     \u001b[0;31m# Keep on until we find the first valid values\u001b[0m\u001b[0;34m\u001b[0m\u001b[0;34m\u001b[0m\u001b[0m\n",
      "\u001b[0;31mStopIteration\u001b[0m: "
     ]
    }
   ],
   "source": [
    "#从文本中载入数据\n",
    "data = \"1,2,3\\n4,5,6\"#读取csv文件，一般为None，默认TAB或空格\n",
    "np.genfromtxt(StringIO(data),delimiter=\",\")\n",
    "data = \"  1  2  3\\n  4  5 67\\n89012 4\"#分割按固定长度\n",
    "np.genfromtxt(StringIO(data),delimiter=3)\n",
    "data = \"1, abc , 2\\n 3, xxx, 4\"#自动去掉空格，设定字符串类型\n",
    "np.genfromtxt(StringIO(data), delimiter=\",\", dtype=\"|S5\", autostrip=True)#去掉空格\n",
    "np.genfromtxt(StringIO(data), comments=\"#\", delimiter=\",\")#忽略注释内容\n",
    "np.genfromtxt(StringIO(data),skip_header=3,skip_footer=5)#截取指定行之间的数据\n",
    "np.genfromtxt(StringIO(data),usecols=(0,-1))#选取指定列\n",
    "np.genfromtxt(StringIO(data),names=\"a,b,c\",usecols=(\"a\",\"c\"))#指定名字，按名字选取指定列\n",
    "#选择数据类型"
   ]
  },
  {
   "cell_type": "code",
   "execution_count": 4,
   "metadata": {
    "collapsed": false,
    "scrolled": true
   },
   "outputs": [
    {
     "data": {
      "text/plain": [
       "array([(1, 2.0, 3), (4, 5.0, 6)], \n",
       "      dtype=[('A', '<i8'), ('B', '<f8'), ('C', '<i8')])"
      ]
     },
     "execution_count": 4,
     "metadata": {},
     "output_type": "execute_result"
    }
   ],
   "source": [
    "#设置命名\n",
    "data = StringIO(\"1 2 3\\n 4 5 6\")\n",
    "np.genfromtxt(data,names=\"A,B,C\")\n",
    "#数据中设置命名\n",
    "data = StringIO(\"So it goes\\n#a b c\\n1 2 3\\n4 5 6\")\n",
    "np.genfromtxt(data,skip_header=1,names=True)#直接设置为True\n",
    "#重新设置\n",
    "data = StringIO(\"1 2 3\\n4 5 6\")\n",
    "ndtype = [('a',int),('b',float),('c',int)]\n",
    "names = [\"A\",\"B\",\"C\"]\n",
    "np.genfromtxt(data,names=names,dtype=ndtype)\n",
    "#如果没有设置命名空间，则默认为\"f%i\",也可以有一个命名，空缺的按规则补足"
   ]
  },
  {
   "cell_type": "code",
   "execution_count": 6,
   "metadata": {
    "collapsed": false
   },
   "outputs": [
    {
     "data": {
      "text/plain": [
       "array([(0, 2, 3), (4, 0, -999)], \n",
       "      dtype=[('a', '<i8'), ('b', '<i8'), ('c', '<i8')])"
      ]
     },
     "execution_count": 6,
     "metadata": {},
     "output_type": "execute_result"
    }
   ],
   "source": [
    "#转换数据内容，可以设置转换函数\n",
    "convertfunc = lambda x:float(x.strip(\"%\"))/100.\n",
    "data =\"1,2.3%,45.\\n6,78.9%,0\"\n",
    "names = (\"i\",\"p\",\"n\")\n",
    "#可以使用name作为列，使用转换函数\n",
    "np.genfromtxt(StringIO(data),delimiter=\",\",names=names,converters={1:convertfunc})\n",
    "#将丢失的值转换为0或者其他\n",
    "data = \"N/A,2,3\\n4, ,???\"\n",
    "kwargs = dict(delimiter=\",\",\n",
    "             dtype = int,\n",
    "             names=\"a,b,c\",\n",
    "             missing_values={0:\"N/A\",'b':\" \",2:\"???\"},\n",
    "             filling_values={0:0,'b':0,2:-999})\n",
    "np.genfromtxt(StringIO(data),**kwargs)"
   ]
  },
  {
   "cell_type": "markdown",
   "metadata": {
    "collapsed": true
   },
   "source": [
    "### 其他类型的读取文件的函数\n",
    "ndfromtxt: 默认设置 usemask = False,生成一个标准的numpy.ndarray\n",
    "\n",
    "mafromtxt: 默认设置 usemask = True,生成一个标准的MaskedArray\n",
    "\n",
    "recfromtxt:默认设置 dtype = None, 生成一个numpy.recarray(usemask=False),或者MaskedArray(usemaske=True)\n",
    "\n",
    "recfromcsv:默认设置 delimiter = \",\" 功能和recfromtxt类似。\n"
   ]
  },
  {
   "cell_type": "markdown",
   "metadata": {},
   "source": [
    "# 2.索引（Indexing）"
   ]
  },
  {
   "cell_type": "code",
   "execution_count": 17,
   "metadata": {
    "collapsed": false
   },
   "outputs": [
    {
     "name": "stdout",
     "output_type": "stream",
     "text": [
      "[10  9  8  7  6  5  4  3  2]\n"
     ]
    }
   ],
   "source": [
    "#一维素索引（Single element indexing），索引不算最后一个元素\n",
    "x = np.arange(10)\n",
    "x[2]#返回第3个元素\n",
    "x[-1]#返回倒数第1个元素\n",
    "x[2:5]#返回第3个到第4个元素\n",
    "x[:-7]#返回第1个到倒数第8个元素\n",
    "x[1:7:2]#返回第2个元素和第6个元素之间，步长为2的元素\n",
    "\n",
    "#多维数组元素索引（Single element indexing）\n",
    "x.shape =(2,5)#将1维数组转换成2维数组\n",
    "x[1,3]#返回第2行第4列的元素\n",
    "x[1,-1]#范围第2行倒数第一个元素\n",
    "x[0]#多维数组，返回第0行数据\n",
    "x[0][2]#返回第1行第2列元素\n",
    "y[1:5:2,::3]#返回一个切片矩阵\n",
    "\n",
    "#一维数组索引\n",
    "x = np.arange(10,1,-1)\n",
    "x[np.array([3,3,1,8])]#从x中选择指定的元素，可以重复选取，返回一个结果，数组类型为[]中创建的属猪类型。\n",
    "x[np.array([1,1],[2,3])]#返回一个二维数组\n",
    "\n",
    "#二维数组索引\n",
    "y[np.array([0,2,4]), np.array([0,1,2])] #挑选[0,0],[2,1],[4,2]这三个元素形成一个数组\n",
    "y[np.array([0,2,4]), 1] #返回第2列的，0，2，4这几个元素并形成一个数组\n",
    "y[np.array([0,2,4])]#返回第0行，第2行，第4行的数组。\n",
    "\n",
    "#布林和mask索引数组\n",
    "b = y>20#设置一个条件\n",
    "y[b]#按照条件返回一个数组"
   ]
  }
 ],
 "metadata": {
  "kernelspec": {
   "display_name": "Python 2",
   "language": "python",
   "name": "python2"
  },
  "language_info": {
   "codemirror_mode": {
    "name": "ipython",
    "version": 2
   },
   "file_extension": ".py",
   "mimetype": "text/x-python",
   "name": "python",
   "nbconvert_exporter": "python",
   "pygments_lexer": "ipython2",
   "version": "2.7.10"
  }
 },
 "nbformat": 4,
 "nbformat_minor": 0
}
